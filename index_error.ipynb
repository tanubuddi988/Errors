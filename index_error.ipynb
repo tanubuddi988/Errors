{
 "cells": [
  {
   "cell_type": "code",
   "execution_count": 1,
   "id": "402b9d3b",
   "metadata": {
    "ExecutionTime": {
     "end_time": "2022-02-11T20:01:52.433000Z",
     "start_time": "2022-02-11T20:01:52.376391Z"
    },
    "provenance": [
     {
      "end_time": "Unknown",
      "execution_time": "Unknown",
      "outputs": [],
      "source": "",
      "start_time": "Unknown"
     },
     {
      "end_time": "2022-02-11T20:01:52.433Z",
      "execution_time": "57ms",
      "outputs": [
       {
        "ename": "IndexError",
        "evalue": "list index out of range",
        "output_type": "error",
        "traceback": [
         "\u001b[0;31m---------------------------------------------------------------------------\u001b[0m",
         "\u001b[0;31mIndexError\u001b[0m                                Traceback (most recent call last)",
         "\u001b[0;32m/tmp/ipykernel_60441/709965412.py\u001b[0m in \u001b[0;36m<module>\u001b[0;34m\u001b[0m\n\u001b[1;32m      1\u001b[0m \u001b[0mlst\u001b[0m\u001b[0;34m=\u001b[0m\u001b[0;34m[\u001b[0m\u001b[0;34m'ashok'\u001b[0m\u001b[0;34m,\u001b[0m\u001b[0;34m'bala'\u001b[0m\u001b[0;34m,\u001b[0m\u001b[0;34m'bhavin'\u001b[0m\u001b[0;34m]\u001b[0m\u001b[0;34m\u001b[0m\u001b[0;34m\u001b[0m\u001b[0m\n\u001b[0;32m----> 2\u001b[0;31m \u001b[0mprint\u001b[0m\u001b[0;34m(\u001b[0m\u001b[0mlst\u001b[0m\u001b[0;34m[\u001b[0m\u001b[0;36m3\u001b[0m\u001b[0;34m]\u001b[0m\u001b[0;34m)\u001b[0m\u001b[0;34m\u001b[0m\u001b[0;34m\u001b[0m\u001b[0m\n\u001b[0m",
         "\u001b[0;31mIndexError\u001b[0m: list index out of range"
        ]
       }
      ],
      "source": "lst=['ashok','bala','bhavin']\nprint(lst[3])",
      "start_time": "2022-02-11T20:01:52.376Z"
     }
    ]
   },
   "outputs": [
    {
     "ename": "IndexError",
     "evalue": "list index out of range",
     "output_type": "error",
     "traceback": [
      "\u001b[0;31m---------------------------------------------------------------------------\u001b[0m",
      "\u001b[0;31mIndexError\u001b[0m                                Traceback (most recent call last)",
      "\u001b[0;32m/tmp/ipykernel_60441/709965412.py\u001b[0m in \u001b[0;36m<module>\u001b[0;34m\u001b[0m\n\u001b[1;32m      1\u001b[0m \u001b[0mlst\u001b[0m\u001b[0;34m=\u001b[0m\u001b[0;34m[\u001b[0m\u001b[0;34m'ashok'\u001b[0m\u001b[0;34m,\u001b[0m\u001b[0;34m'bala'\u001b[0m\u001b[0;34m,\u001b[0m\u001b[0;34m'bhavin'\u001b[0m\u001b[0;34m]\u001b[0m\u001b[0;34m\u001b[0m\u001b[0;34m\u001b[0m\u001b[0m\n\u001b[0;32m----> 2\u001b[0;31m \u001b[0mprint\u001b[0m\u001b[0;34m(\u001b[0m\u001b[0mlst\u001b[0m\u001b[0;34m[\u001b[0m\u001b[0;36m3\u001b[0m\u001b[0;34m]\u001b[0m\u001b[0;34m)\u001b[0m\u001b[0;34m\u001b[0m\u001b[0;34m\u001b[0m\u001b[0m\n\u001b[0m",
      "\u001b[0;31mIndexError\u001b[0m: list index out of range"
     ]
    }
   ],
   "source": [
    "lst=['ashok','bala','bhavin']\n",
    "print(lst[3])"
   ]
  },
  {
   "cell_type": "code",
   "execution_count": null,
   "id": "a5c70156",
   "metadata": {},
   "outputs": [],
   "source": []
  }
 ],
 "metadata": {
  "kernelspec": {
   "display_name": "Python 3 (ipykernel)",
   "language": "python",
   "name": "python3"
  },
  "language_info": {
   "codemirror_mode": {
    "name": "ipython",
    "version": 3
   },
   "file_extension": ".py",
   "mimetype": "text/x-python",
   "name": "python",
   "nbconvert_exporter": "python",
   "pygments_lexer": "ipython3",
   "version": "3.8.10"
  }
 },
 "nbformat": 4,
 "nbformat_minor": 5
}
